{
  "nbformat": 4,
  "nbformat_minor": 0,
  "metadata": {
    "colab": {
      "private_outputs": true,
      "provenance": [],
      "collapsed_sections": [
        "mDgbUHAGgjLW",
        "t6dVpIINYklI",
        "3MPXvC8up1cl"
      ]
    },
    "kernelspec": {
      "name": "python3",
      "display_name": "Python 3"
    },
    "language_info": {
      "name": "python"
    }
  },
  "cells": [
    {
      "cell_type": "markdown",
      "source": [
        "# **Project Name**    -  📊 Flipkart Customer Support EDA 🚀\n",
        "\n"
      ],
      "metadata": {
        "id": "vncDsAP0Gaoa"
      }
    },
    {
      "cell_type": "markdown",
      "source": [
        "##### **Project Type**    - EDA\n",
        "##### **Contribution**    - Individual\n",
        "##### Team Member 1 - Meghashyam Parab\n"
      ],
      "metadata": {
        "id": "beRrZCGUAJYm"
      }
    },
    {
      "cell_type": "markdown",
      "source": [
        "# **Project Summary -**"
      ],
      "metadata": {
        "id": "FJNUwmbgGyua"
      }
    },
    {
      "cell_type": "markdown",
      "source": [
        "📊 **Flipkart Customer Support EDA** 🚀\n",
        "\n",
        "Unlocking Insights from Customer Support Interactions\n",
        "\n",
        "🔍 Project Overview\n",
        "\n",
        "Flipkart, one of India's leading e-commerce giants, receives thousands of customer queries daily. Understanding customer support trends is crucial for improving response times, resolving issues effectively, and enhancing overall customer satisfaction. This Exploratory Data Analysis (EDA) project dives deep into Flipkart's customer support data to uncover meaningful insights.\n",
        "\n",
        "-------\n",
        "\n",
        "📌 Key Objectives\n",
        "\n",
        "✅ Identify the most common customer complaints\n",
        "\n",
        "✅ Analyze response times and resolution efficiency\n",
        "\n",
        "✅ Detect sentiment trends in customer feedback\n",
        "\n",
        "✅ Find peak hours for customer support activity\n",
        "\n",
        "✅ Recommend data-driven solutions for improving support services\n",
        "\n",
        "\n",
        "------\n",
        "\n",
        "🔧 Technologies Used\n",
        "\n",
        "🔹 Python 🐍 (Pandas, NumPy, Matplotlib, Seaborn)\n",
        "\n",
        "🔹 Data Visualization 📊\n",
        "\n",
        "🔹 Google Collab 📖\n",
        "\n",
        "------\n",
        "\n",
        "📈 Insights Discovered\n",
        "\n",
        "🔹 Most Frequent Issues: Delivery delays, refund problems, payment failures\n",
        "\n",
        "🔹 Peak Support Hours: Higher volume during sales events and weekends\n",
        "\n",
        "🔹 Response Time Trends: Faster responses during off-peak hours ⏳\n",
        "\n",
        "🔹 Sentiment Analysis: Customers express high frustration in refund-related tickets"
      ],
      "metadata": {
        "id": "F6v_1wHtG2nS"
      }
    },
    {
      "cell_type": "markdown",
      "source": [
        "# **GitHub Link -**"
      ],
      "metadata": {
        "id": "w6K7xa23Elo4"
      }
    },
    {
      "cell_type": "markdown",
      "source": [
        "https://github.com/meghashyam123/Flipkart-Customer-Support-EDA"
      ],
      "metadata": {
        "id": "h1o69JH3Eqqn"
      }
    },
    {
      "cell_type": "markdown",
      "source": [
        "# **Problem Statement**\n"
      ],
      "metadata": {
        "id": "yQaldy8SH6Dl"
      }
    },
    {
      "cell_type": "markdown",
      "source": [
        "Customer satisfaction is a key driver of Flipkart’s success, and its customer support system plays a crucial role in maintaining a seamless shopping experience. However, with millions of customer interactions daily, identifying pain points, improving response efficiency, and enhancing resolution quality remain challenges.\n",
        "\n",
        "This Exploratory Data Analysis (EDA) aims to uncover patterns, trends, and bottlenecks within Flipkart's customer support data by analyzing:\n",
        "\n",
        "Customer Complaints & Queries – Identifying frequent issues, escalation trends, and resolution times.\n",
        "\n",
        "Response & Resolution Time – Evaluating delays and their impact on customer satisfaction.\n",
        "\n",
        "Sentiment Analysis – Understanding customer emotions in interactions to improve service tone and effectiveness.\n",
        "\n",
        "Agent Performance – Assessing agent efficiency and workload distribution."
      ],
      "metadata": {
        "id": "DpeJGUA3kjGy"
      }
    },
    {
      "cell_type": "markdown",
      "source": [
        "#### **Define Your Business Objective?**"
      ],
      "metadata": {
        "id": "PH-0ReGfmX4f"
      }
    },
    {
      "cell_type": "markdown",
      "source": [
        "Flipkart aims to enhance its customer support operations by leveraging data-driven insights to improve response efficiency, resolution effectiveness, and overall customer satisfaction. The key business objectives of this EDA are:\n",
        "\n",
        "Enhance Customer Experience 🛍️\n",
        "\n",
        "*   Identify recurring customer issues to proactively address pain points.\n",
        "\n",
        "*   Improve first-response time and resolution efficiency to boost satisfaction.\n",
        "\n",
        "\n",
        "Optimize Support Operations ⚙️\n",
        "\n",
        "*   Analyze support ticket volume trends to optimize agent allocation.\n",
        "\n",
        "*   Identify bottlenecks in customer interactions to streamline workflows.\n",
        "\n",
        "\n",
        "Reduce Costs & Increase Efficiency 💰\n",
        "\n",
        "*   Minimize unnecessary escalations by improving initial query resolutions.\n",
        "\n",
        "*   Identify automation opportunities for repetitive queries using AI chatbots.\n",
        "\n",
        "Improve Customer Retention & Loyalty ❤️\n",
        "\n",
        "\n",
        "*   Analyze sentiment from customer interactions to enhance service quality.\n",
        "\n",
        "*   Develop targeted strategies to improve customer engagement and retention.\n",
        "\n",
        "\n"
      ],
      "metadata": {
        "id": "PhDvGCAqmjP1"
      }
    },
    {
      "cell_type": "markdown",
      "source": [
        "# **General Guidelines** : -  "
      ],
      "metadata": {
        "id": "mDgbUHAGgjLW"
      }
    },
    {
      "cell_type": "markdown",
      "source": [
        "1.   Well-structured, formatted, and commented code is required.\n",
        "2.   Exception Handling, Production Grade Code & Deployment Ready Code will be a plus. Those students will be awarded some additional credits.\n",
        "     \n",
        "     The additional credits will have advantages over other students during Star Student selection.\n",
        "       \n",
        "             [ Note: - Deployment Ready Code is defined as, the whole .ipynb notebook should be executable in one go\n",
        "                       without a single error logged. ]\n",
        "\n",
        "3.   Each and every logic should have proper comments.\n",
        "4. You may add as many number of charts you want. Make Sure for each and every chart the following format should be answered.\n",
        "        \n",
        "\n",
        "```\n",
        "# Chart visualization code\n",
        "```\n",
        "            \n",
        "\n",
        "*   Why did you pick the specific chart?\n",
        "*   What is/are the insight(s) found from the chart?\n",
        "* Will the gained insights help creating a positive business impact?\n",
        "Are there any insights that lead to negative growth? Justify with specific reason.\n",
        "\n",
        "5. You have to create at least 20 logical & meaningful charts having important insights.\n",
        "\n",
        "\n",
        "[ Hints : - Do the Vizualization in  a structured way while following \"UBM\" Rule.\n",
        "\n",
        "U - Univariate Analysis,\n",
        "\n",
        "B - Bivariate Analysis (Numerical - Categorical, Numerical - Numerical, Categorical - Categorical)\n",
        "\n",
        "M - Multivariate Analysis\n",
        " ]\n",
        "\n",
        "\n",
        "\n"
      ],
      "metadata": {
        "id": "ZrxVaUj-hHfC"
      }
    },
    {
      "cell_type": "markdown",
      "source": [
        "# ***Let's Begin !***"
      ],
      "metadata": {
        "id": "O_i_v8NEhb9l"
      }
    },
    {
      "cell_type": "markdown",
      "source": [
        "## ***1. Know Your Data***"
      ],
      "metadata": {
        "id": "HhfV-JJviCcP"
      }
    },
    {
      "cell_type": "markdown",
      "source": [
        "### Import Libraries"
      ],
      "metadata": {
        "id": "Y3lxredqlCYt"
      }
    },
    {
      "cell_type": "code",
      "source": [
        "# Import Libraries\n",
        "\n",
        "import pandas as pd\n",
        "import numpy as np\n",
        "import matplotlib.pyplot as plt\n",
        "import seaborn as sns\n",
        "from datetime import datetime"
      ],
      "metadata": {
        "id": "M8Vqi-pPk-HR"
      },
      "execution_count": null,
      "outputs": []
    },
    {
      "cell_type": "markdown",
      "source": [
        "### Dataset Loading"
      ],
      "metadata": {
        "id": "3RnN4peoiCZX"
      }
    },
    {
      "cell_type": "code",
      "source": [
        "# Load Dataset\n",
        "\n",
        "flipkart_df = pd.read_csv(\"/content/Customer_support_data.csv\")\n"
      ],
      "metadata": {
        "id": "4CkvbW_SlZ_R"
      },
      "execution_count": null,
      "outputs": []
    },
    {
      "cell_type": "markdown",
      "source": [
        "### Dataset First View"
      ],
      "metadata": {
        "id": "x71ZqKXriCWQ"
      }
    },
    {
      "cell_type": "code",
      "source": [
        "# Dataset First Look\n",
        "\n",
        "flipkart_df.head()\n"
      ],
      "metadata": {
        "id": "LWNFOSvLl09H"
      },
      "execution_count": null,
      "outputs": []
    },
    {
      "cell_type": "markdown",
      "source": [
        "### Dataset Rows & Columns count"
      ],
      "metadata": {
        "id": "7hBIi_osiCS2"
      }
    },
    {
      "cell_type": "code",
      "source": [
        "# Dataset Rows & Columns count\n",
        "\n",
        "num_rows = flipkart_df.shape[0]  # Get the number of rows\n",
        "num_cols = flipkart_df.shape[1]  # Get the number of columns\n",
        "\n",
        "print(\"Number of rows:\", num_rows)\n",
        "print(\"Number of columns:\", num_cols)"
      ],
      "metadata": {
        "id": "Kllu7SJgmLij"
      },
      "execution_count": null,
      "outputs": []
    },
    {
      "cell_type": "markdown",
      "source": [
        "### Dataset Information"
      ],
      "metadata": {
        "id": "JlHwYmJAmNHm"
      }
    },
    {
      "cell_type": "code",
      "source": [
        "# Dataset Info\n",
        "\n",
        "flipkart_df.info()"
      ],
      "metadata": {
        "id": "e9hRXRi6meOf"
      },
      "execution_count": null,
      "outputs": []
    },
    {
      "cell_type": "markdown",
      "source": [
        "#### Duplicate Values"
      ],
      "metadata": {
        "id": "35m5QtbWiB9F"
      }
    },
    {
      "cell_type": "code",
      "source": [
        "# Dataset Duplicate Value Count\n",
        "\n",
        "duplicate_count = flipkart_df.duplicated().sum()\n",
        "print(\"Number of duplicate rows:\", duplicate_count)\n"
      ],
      "metadata": {
        "id": "1sLdpKYkmox0"
      },
      "execution_count": null,
      "outputs": []
    },
    {
      "cell_type": "markdown",
      "source": [
        "#### Missing Values/Null Values"
      ],
      "metadata": {
        "id": "PoPl-ycgm1ru"
      }
    },
    {
      "cell_type": "code",
      "source": [
        "# Missing Values/Null Values Count\n",
        "\n",
        "missing_values = flipkart_df.isnull().sum()\n",
        "print(missing_values)"
      ],
      "metadata": {
        "id": "GgHWkxvamxVg"
      },
      "execution_count": null,
      "outputs": []
    },
    {
      "cell_type": "code",
      "source": [
        "# Visualizing the missing values\n",
        "\n",
        "import missingno as msno\n",
        "\n",
        "# Visualizing the missing values\n",
        "msno.matrix(flipkart_df)\n",
        "plt.show()"
      ],
      "metadata": {
        "id": "3q5wnI3om9sJ"
      },
      "execution_count": null,
      "outputs": []
    },
    {
      "cell_type": "code",
      "source": [
        "\n",
        "\n",
        "# Visualizing the missing values\n",
        "plt.figure(figsize=(10, 6))  # Adjust figure size as needed\n",
        "sns.heatmap(flipkart_df.isnull(), cbar=False, cmap='viridis')  # Use a colormap for visualization\n",
        "plt.title('Missing Values Heatmap')\n",
        "plt.xlabel('Columns')\n",
        "plt.ylabel('Rows')\n",
        "plt.show()"
      ],
      "metadata": {
        "id": "4MTrwtvBayxV"
      },
      "execution_count": null,
      "outputs": []
    },
    {
      "cell_type": "markdown",
      "source": [
        "### What did you know about your dataset?"
      ],
      "metadata": {
        "id": "H0kj-8xxnORC"
      }
    },
    {
      "cell_type": "markdown",
      "source": [
        "The dataset contains 85,907 entries and 20 columns. Here are the key insights from the dataset structure:\n",
        "\n",
        "Key Identifiers: Unique id, Order_id\n",
        "\n",
        "*   Key Identifiers: Unique id, Order_id\n",
        "\n",
        "*   Issue Tracking: Issue_reported at, issue_responded, Survey_response_Date\n",
        "\n",
        "*   Customer Feedback: Customer Remarks, CSAT Score\n",
        "\n",
        "*   Product & Order Details: Product_category, Item_price, order_date_time\n",
        "\n",
        "*   Agent Performance: Agent_name, Supervisor, Manager, Tenure Bucket, Agent Shift\n",
        "\n",
        "Missing Data:\n",
        "\n",
        "Customer Remarks (66.5% missing)\n",
        "\n",
        "Order_id (21.3% missing)\n",
        "\n",
        "order_date_time (80% missing)\n",
        "\n",
        "connected_handling_time (99.7% missing)\n",
        "\n",
        "\n",
        "\n",
        "\n",
        "\n",
        "\n",
        "\n",
        "\n"
      ],
      "metadata": {
        "id": "gfoNAAC-nUe_"
      }
    },
    {
      "cell_type": "markdown",
      "source": [
        "## ***2. Understanding Your Variables***"
      ],
      "metadata": {
        "id": "nA9Y7ga8ng1Z"
      }
    },
    {
      "cell_type": "code",
      "source": [
        "# Dataset Columns\n",
        "\n",
        "flipkart_df.columns\n",
        "\n"
      ],
      "metadata": {
        "id": "j7xfkqrt5Ag5"
      },
      "execution_count": null,
      "outputs": []
    },
    {
      "cell_type": "code",
      "source": [
        "# Dataset Describe\n",
        "\n",
        "flipkart_df.describe()"
      ],
      "metadata": {
        "id": "DnOaZdaE5Q5t"
      },
      "execution_count": null,
      "outputs": []
    },
    {
      "cell_type": "markdown",
      "source": [
        "### Variables Description"
      ],
      "metadata": {
        "id": "PBTbrJXOngz2"
      }
    },
    {
      "cell_type": "markdown",
      "source": [
        "**Dataset Overview**\n",
        "\n",
        "Total Rows: 85,907\n",
        "\n",
        "Total Columns: 20\n",
        "\n",
        "----\n",
        "\n",
        "\n",
        "**Key Columns**\n",
        "\n",
        "\n",
        "Unique id: A unique identifier for each record.\n",
        "\n",
        "channel_name: The communication channel (Inbound, Outcall, etc.).\n",
        "\n",
        "category: The main issue type (Returns, Order Related, etc.).\n",
        "\n",
        "Sub-category: More specific issue type (e.g., Reverse Pickup Enquiry).\n",
        "\n",
        "Customer Remarks: Customer feedback (only 28,756 entries have this data).\n",
        "\n",
        "Order_id: Unique order identifier (not available for all records).\n",
        "\n",
        "order_date_time: The date and time the order was placed (only 17,214 records have this).\n",
        "\n",
        "Issue_reported at: The date and time when the issue was raised.\n",
        "\n",
        "issue_responded: The response date and time.\n",
        "\n",
        "Survey_response_Date: Date when a survey response was recorded.\n",
        "\n",
        "Customer_City: Location of the customer (only 17,079 records have this).\n",
        "\n",
        "Product_category: Type of product associated with the issue.\n",
        "\n",
        "Item_price: The price of the item in question.\n",
        "\n",
        "connected_handling_time: Time taken to handle the issue (only 242 records have this).\n",
        "\n",
        "Agent_name: The customer service agent handling the issue.\n",
        "\n",
        "Supervisor & Manager: The supervisor and manager overseeing the agent.\n",
        "\n",
        "Tenure Bucket: Agent experience level (e.g., On Job Training, >90 days, etc.).\n",
        "\n",
        "Agent Shift: The shift during which the agent handled the issue (Morning, Evening, etc.).\n",
        "\n",
        "CSAT Score: Customer Satisfaction Score (range: 1–5).\n"
      ],
      "metadata": {
        "id": "aJV4KIxSnxay"
      }
    },
    {
      "cell_type": "markdown",
      "source": [
        "### Check Unique Values for each variable."
      ],
      "metadata": {
        "id": "u3PMJOP6ngxN"
      }
    },
    {
      "cell_type": "code",
      "source": [
        "# Check Unique Values for each variable.\n",
        "\n",
        "\n",
        "for column in flipkart_df.columns:\n",
        "    num_unique = flipkart_df[column].nunique()\n",
        "    print(f\"Column: {column}, Number of Unique Values: {num_unique}\")"
      ],
      "metadata": {
        "id": "zms12Yq5n-jE"
      },
      "execution_count": null,
      "outputs": []
    },
    {
      "cell_type": "markdown",
      "source": [
        "## 3. ***Data Wrangling***"
      ],
      "metadata": {
        "id": "dauF4eBmngu3"
      }
    },
    {
      "cell_type": "markdown",
      "source": [
        "### Data Wrangling Code"
      ],
      "metadata": {
        "id": "bKJF3rekwFvQ"
      }
    },
    {
      "cell_type": "code",
      "source": [
        "# Data Wrangling Code\n",
        "\n",
        "# 1. Handling Missing Values: Impute 'Item_price' with the mean\n",
        "flipkart_df['Item_price'].fillna(flipkart_df['Item_price'].mean(), inplace=True)\n",
        "\n",
        "# 2. Converting Data Types: Convert date/time columns to datetime objects\n",
        "date_time_columns = ['order_date_time', 'Issue_reported at', 'issue_responded', 'Survey_response_Date']\n",
        "for column in date_time_columns:\n",
        "    flipkart_df[column] = pd.to_datetime(flipkart_df[column], errors='coerce')  # Handle errors gracefully\n",
        "\n",
        "# 3. Feature Engineering: Extract day of the week and hour from 'Issue_reported at'\n",
        "flipkart_df['issue_reported_dayofweek'] = flipkart_df['Issue_reported at'].dt.dayofweek\n",
        "flipkart_df['issue_reported_hour'] = flipkart_df['Issue_reported at'].dt.hour\n",
        "\n",
        "# 4. Handling Categorical Variables (Example: One-Hot Encoding for 'category')\n",
        "flipkart_df = pd.get_dummies(flipkart_df, columns=['category'], drop_first=True, prefix='category')\n",
        "\n",
        "# (Optional) 5. Data Scaling (if needed for specific algorithms later)\n",
        "# from sklearn.preprocessing import StandardScaler\n",
        "# scaler = StandardScaler()\n",
        "# numerical_features = ['Item_price', 'connected_handling_time']\n",
        "# flipkart_df[numerical_features] = scaler.fit_transform(flipkart_df[numerical_features])"
      ],
      "metadata": {
        "id": "wk-9a2fpoLcV"
      },
      "execution_count": null,
      "outputs": []
    },
    {
      "cell_type": "markdown",
      "source": [
        "### What all manipulations have you done and insights you found?"
      ],
      "metadata": {
        "id": "MSa1f5Uengrz"
      }
    },
    {
      "cell_type": "markdown",
      "source": [
        "\n",
        "📊 Flipkart Customer Support EDA: Insights Unboxed! 🎁\n",
        "\n",
        "🔧 Data Magic & Tweaks:\n",
        "\n",
        "✔ Cleaned up missing values & fixed messy formats 📄\n",
        "\n",
        "✔ Created Response Time & Resolution Time metrics ⏳\n",
        "\n",
        "✔ Extracted peak complaint days, hours, and pricing trends 📅💰\n",
        "\n",
        "------\n",
        "\n",
        "💡 Golden Insights:\n",
        "\n",
        "🚀 Mondays & Fridays see the most complaints—weekend shopping rush?\n",
        "\n",
        "⏰ 12 PM peak complaint hour—lunch break blues for agents?\n",
        "\n",
        "👑 Premium customers (₹20K+ purchases) demand faster support or churn!\n",
        "\n",
        "🌙 Night shift delays response times—time to wake up the team!\n",
        "\n",
        "🏆 Some agents resolve faster & score higher on CSAT—train others with their methods!\n",
        "\n",
        "-------\n",
        "\n",
        "\n",
        "\n",
        "📈 Impact Check:\n",
        "\n",
        "✅ Smarter staffing & training 🔥\n",
        "\n",
        "✅ VIP customer priority handling 👑\n",
        "\n",
        "⚠ Slow response & resolution? Fix or risk losing trust! 🚨"
      ],
      "metadata": {
        "id": "LbyXE7I1olp8"
      }
    },
    {
      "cell_type": "markdown",
      "source": [
        "## ***4. Data Vizualization, Storytelling & Experimenting with charts : Understand the relationships between variables***"
      ],
      "metadata": {
        "id": "GF8Ens_Soomf"
      }
    },
    {
      "cell_type": "markdown",
      "source": [
        "#### Chart - 1"
      ],
      "metadata": {
        "id": "0wOQAZs5pc--"
      }
    },
    {
      "cell_type": "code",
      "source": [
        "\n",
        "# If 'Item_price' is numerical, use a histogram\n",
        "plt.figure(figsize=(10, 6))\n",
        "sns.histplot(flipkart_df['Item_price'], bins=20)  # Adjust bins as needed\n",
        "plt.title('Distribution of Item Prices')\n",
        "plt.xlabel('Item Price')\n",
        "plt.ylabel('Frequency')\n",
        "plt.gca().spines[['top', 'right']].set_visible(False)  # Remove top and right spines\n",
        "plt.show()\n",
        "\n"
      ],
      "metadata": {
        "id": "7v_ESjsspbW7"
      },
      "execution_count": null,
      "outputs": []
    },
    {
      "cell_type": "markdown",
      "source": [
        "##### 1. Why did you pick the specific chart?"
      ],
      "metadata": {
        "id": "K5QZ13OEpz2H"
      }
    },
    {
      "cell_type": "markdown",
      "source": [
        "This histogram was chosen to analyze the distribution of item prices 📊.\n",
        "\n",
        "Key Insights:\n",
        "\n",
        "✅ Highly skewed distribution – most items are in the lower price range.\n",
        "\n",
        "✅ Few expensive outliers – high-value items exist but are rare.\n",
        "\n",
        "✅ Potential pricing strategy – adjusting price ranges or bundling lower-cost items could maximize sales."
      ],
      "metadata": {
        "id": "XESiWehPqBRc"
      }
    },
    {
      "cell_type": "markdown",
      "source": [
        "##### 2. What is/are the insight(s) found from the chart?"
      ],
      "metadata": {
        "id": "lQ7QKXXCp7Bj"
      }
    },
    {
      "cell_type": "markdown",
      "source": [
        "Insights from the Chart 📊\n",
        "\n",
        "1️⃣ Most Items Are Low-Priced – The majority of items fall within a low price range, suggesting affordability drives sales volume.\n",
        "\n",
        "2️⃣ Highly Skewed Distribution – There are a few high-value items, but they occur very rarely, indicating a niche or premium market segment.\n",
        "\n",
        "3️⃣ Outliers Exist at Higher Prices – Some items have significantly higher prices (e.g., above 25,000), which might cater to a luxury or specialized audience."
      ],
      "metadata": {
        "id": "C_j1G7yiqdRP"
      }
    },
    {
      "cell_type": "markdown",
      "source": [
        "##### 3. Will the gained insights help creating a positive business impact?\n",
        "Are there any insights that lead to negative growth? Justify with specific reason."
      ],
      "metadata": {
        "id": "448CDAPjqfQr"
      }
    },
    {
      "cell_type": "markdown",
      "source": [
        "✅ Positive Impact:\n",
        "\n",
        "The insights pave the way for smarter pricing and inventory decisions. By recognizing that most sales come from low-cost items, businesses can focus on volume-driven revenue while selectively marketing premium products. Bundling or discounts could further boost sales and customer retention.\n",
        "\n",
        "⚠️ Potential Negative Growth Risks:\n",
        "\n",
        "A high reliance on low-priced items may lead to thin profit margins, making it harder to sustain long-term growth. The presence of high-priced outliers with low demand suggests either misaligned pricing or weak market traction. If not addressed, this could lead to excess inventory costs and reduced profitability."
      ],
      "metadata": {
        "id": "3cspy4FjqxJW"
      }
    },
    {
      "cell_type": "markdown",
      "source": [
        "##### 1. Why did you pick the specific chart?"
      ],
      "metadata": {
        "id": "t6dVpIINYklI"
      }
    },
    {
      "cell_type": "markdown",
      "source": [
        "#### Chart - 2"
      ],
      "metadata": {
        "id": "KSlN3yHqYklG"
      }
    },
    {
      "cell_type": "code",
      "source": [
        "import matplotlib.pyplot as plt\n",
        "import seaborn as sns\n",
        "import pandas as pd\n",
        "\n",
        "# 1. Prepare Data: Group by relevant categories (e.g., day of the week, hour of the day)\n",
        "# Assuming 'Issue_reported at' is a datetime column and 'category' is a categorical column\n",
        "flipkart_df['Issue_reported_day'] = flipkart_df['Issue_reported at'].dt.dayofweek  # Day of the week (0=Monday, 6=Sunday)\n",
        "flipkart_df['Issue_reported_hour'] = flipkart_df['Issue_reported at'].dt.hour\n",
        "\n",
        "# 2. Create a Pivot Table for the Heatmap\n",
        "heatmap_data = pd.pivot_table(flipkart_df, values='connected_handling_time', index='Issue_reported_hour', columns='Issue_reported_day', aggfunc='mean')\n",
        "\n",
        "# 3. Plot the Heatmap\n",
        "plt.figure(figsize=(12, 8))\n",
        "sns.heatmap(heatmap_data, cmap='viridis', annot=True, fmt=\".1f\", linewidths=.5, cbar_kws={'label': 'Average Handling Time'})\n",
        "plt.title('Connected Handling Time Heatmap (by Day and Hour)')\n",
        "plt.xlabel('Day of the Week (0=Monday, 6=Sunday)')\n",
        "plt.ylabel('Hour of the Day')\n",
        "plt.xticks(rotation=45, ha='right')\n",
        "plt.tight_layout()\n",
        "plt.show()"
      ],
      "metadata": {
        "id": "C4j6RtuJlvPU"
      },
      "execution_count": null,
      "outputs": []
    },
    {
      "cell_type": "markdown",
      "source": [
        "1. Why did you pick the specific chart?"
      ],
      "metadata": {
        "id": "axVkJcVcjWkW"
      }
    },
    {
      "cell_type": "markdown",
      "source": [
        "I chose the heatmap because it visually captures patterns across time and days, making it easy to spot trends in handling time fluctuations.\n",
        "\n",
        "Why? It highlights peak congestion periods (like the 1 PM Thursday spike) and underutilized slots (low AHT periods).\n",
        "\n",
        "Value? This helps businesses optimize staffing, reduce delays, and improve customer satisfaction efficiently.\n",
        "\n",
        "Alternative? A line chart wouldn’t showcase density as effectively, and bar charts would be too cluttered for this multidimensional data."
      ],
      "metadata": {
        "id": "dI40aYyIjX3s"
      }
    },
    {
      "cell_type": "markdown",
      "source": [
        "##### 2. What is/are the insight(s) found from the chart?"
      ],
      "metadata": {
        "id": "ijmpgYnKYklI"
      }
    },
    {
      "cell_type": "markdown",
      "source": [
        "This heatmap visualizes average handling time (AHT) for customer interactions across different hours of the day and days of the week. The color intensity indicates AHT, with darker colors representing lower values and brighter colors (yellow/green) representing higher values.\n",
        "\n"
      ],
      "metadata": {
        "id": "PSx9atu2YklI"
      }
    },
    {
      "cell_type": "markdown",
      "source": [
        "##### 3. Will the gained insights help creating a positive business impact?\n",
        "Are there any insights that lead to negative growth? Justify with specific reason."
      ],
      "metadata": {
        "id": "-JiQyfWJYklI"
      }
    },
    {
      "cell_type": "markdown",
      "source": [
        "Absolutely! These insights fuel positive business impact 🚀 by optimizing staff allocation, reducing customer wait times, and improving service efficiency. Addressing peak-hour delays (like the 1 PM Thursday bottleneck) can enhance CSAT scores, boost customer retention, and improve operational efficiency.\n",
        "\n",
        "However, inconsistent weekend coverage and high AHT spikes 📉 could hurt customer satisfaction and lead to negative growth. If customers experience delays due to limited weekend support, they may churn or escalate issues publicly."
      ],
      "metadata": {
        "id": "BcBbebzrYklV"
      }
    },
    {
      "cell_type": "markdown",
      "source": [
        "#### Chart - 3"
      ],
      "metadata": {
        "id": "EM7whBJCYoAo"
      }
    },
    {
      "cell_type": "code",
      "source": [
        "!pip install plotly\n",
        "\n",
        "import plotly.express as px\n",
        "import pandas as pd\n",
        "\n",
        "# Assuming your DataFrame is named 'flipkart_df' and has a 'CSAT Score' column\n",
        "\n",
        "# 1. Calculate CSAT score counts\n",
        "csat_counts = flipkart_df['CSAT Score'].value_counts().reset_index()\n",
        "csat_counts.columns = ['CSAT Score', 'Count']\n",
        "\n",
        "# 2. Create the Circular Bar Plot\n",
        "fig = px.bar_polar(csat_counts, r=\"Count\", theta=\"CSAT Score\",\n",
        "                   color=\"CSAT Score\", color_discrete_sequence=px.colors.sequential.Plasma_r,\n",
        "                   template=\"plotly_dark\",\n",
        "                   title=\"CSAT Score Distribution - Circular Bar Plot\")\n",
        "\n",
        "fig.update_layout(\n",
        "    polar=dict(\n",
        "        radialaxis=dict(\n",
        "            visible=True,\n",
        "            range=[0, csat_counts['Count'].max() * 1.1]  # Adjust range if needed\n",
        "        )\n",
        "    ),\n",
        "    showlegend=False  # You can set showlegend=True if you want a legend\n",
        ")\n",
        "\n",
        "fig.show()"
      ],
      "metadata": {
        "id": "s6uJWkzjnOuy"
      },
      "execution_count": null,
      "outputs": []
    },
    {
      "cell_type": "markdown",
      "source": [
        "##### 1. Why did you pick the specific chart?"
      ],
      "metadata": {
        "id": "fge-S5ZAYoAp"
      }
    },
    {
      "cell_type": "markdown",
      "source": [
        "This circular bar plot was chosen to visualize CSAT (Customer Satisfaction) score distribution in a unique way.\n",
        "\n",
        "Here’s why this approach was considered:\n",
        "\n",
        "📊 Why This Chart?\n",
        "\n",
        "✅ Emphasizes Score Distribution – The color gradient effectively highlights variations in CSAT scores.\n",
        "\n",
        "✅ Alternative to Traditional Bar Charts – It offers a fresh perspective compared to standard bar plots, making patterns visually appealing.\n",
        "\n",
        "✅ Color Mapping for Better Insights – The color scale on the right helps in quickly understanding the score intensity (low scores in purple, high scores in yellow)."
      ],
      "metadata": {
        "id": "5dBItgRVYoAp"
      }
    },
    {
      "cell_type": "markdown",
      "source": [
        "##### 2. What is/are the insight(s) found from the chart?"
      ],
      "metadata": {
        "id": "85gYPyotYoAp"
      }
    },
    {
      "cell_type": "markdown",
      "source": [
        "1️⃣ Most Customer Satisfaction Scores are High (Near 5.0) 🔥. -\n",
        "The bright yellow color represents the highest CSAT score (5), meaning most customers provided high satisfaction ratings.\n",
        "This suggests a positive customer experience and strong service quality.\n",
        "\n",
        "2️⃣ Lack of Low CSAT Scores - The chart does not show significant purple/blue regions, which represent low scores (1-2).\n",
        "This indicates very few dissatisfied customers, reinforcing the company's high service standards.\n",
        "\n",
        "3️⃣ Data Might Be Skewed - Since the bars are concentrated at a single angle (0°), the CSAT scores might not be diverse.\n",
        "If all scores are clustered around 5, it’s worth investigating whether feedback collection is biased or limited to only positive experiences.\n",
        "\n",
        "\n",
        "\n"
      ],
      "metadata": {
        "id": "4jstXR6OYoAp"
      }
    },
    {
      "cell_type": "markdown",
      "source": [
        "##### 3. Will the gained insights help creating a positive business impact?\n",
        "Are there any insights that lead to negative growth? Justify with specific reason."
      ],
      "metadata": {
        "id": "RoGjAbkUYoAp"
      }
    },
    {
      "cell_type": "markdown",
      "source": [
        "✅ Positive: High CSAT scores mean strong customer satisfaction, leading to higher retention, referrals, and brand loyalty.\n",
        "\n",
        "⚠️ Possible Concern: If there are no visible low scores, it’s important to ensure that negative feedback is not being filtered out or ignored."
      ],
      "metadata": {
        "id": "zfJ8IqMcYoAp"
      }
    },
    {
      "cell_type": "markdown",
      "source": [
        "#### Chart - 4"
      ],
      "metadata": {
        "id": "4Of9eVA-YrdM"
      }
    },
    {
      "source": [
        "import matplotlib.pyplot as plt\n",
        "import seaborn as sns\n",
        "import pandas as pd\n",
        "\n",
        "# Assuming flipkart_df is your DataFrame\n",
        "\n",
        "# 1. Convert dayofweek numbers to day names for better labels\n",
        "day_names = ['Monday', 'Tuesday', 'Wednesday', 'Thursday', 'Friday', 'Saturday', 'Sunday']\n",
        "# Convert 'issue_reported_dayofweek' to integers before mapping, handling NaNs:\n",
        "# Replace NaN values with -1 (or any other integer that won't be used as a dayofweek)\n",
        "flipkart_df['issue_reported_dayofweek'] = flipkart_df['issue_reported_dayofweek'].fillna(-1).astype(int)\n",
        "flipkart_df['issue_reported_day_name'] = flipkart_df['issue_reported_dayofweek'].map(lambda x: day_names[x] if x != -1 else 'Unknown')\n",
        "\n",
        "\n",
        "# 2. Create the plot using Seaborn for better styling\n",
        "plt.figure(figsize=(10, 6))  # Adjust figure size as needed\n",
        "sns.histplot(data=flipkart_df, x='issue_reported_day_name', bins=7, color='#4c72b0', edgecolor='black')\n",
        "plt.title('Distribution of Issue Reports by Day of the Week', fontsize=16)\n",
        "plt.xlabel('Day of the Week', fontsize=12)\n",
        "plt.ylabel('Number of Issues Reported', fontsize=12)\n",
        "\n",
        "# 3. Customize the plot for a professional look\n",
        "plt.xticks(rotation=45, ha='right', fontsize=10)  # Rotate x-axis labels for readability\n",
        "plt.yticks(fontsize=10)\n",
        "plt.grid(axis='y', alpha=0.5)  # Add subtle gridlines\n",
        "sns.despine(top=True, right=True)  # Remove top and right spines\n",
        "\n",
        "# 4. Add annotations or insights if desired (optional)\n",
        "# For example, you can add the total number of issues reported:\n",
        "total_issues = len(flipkart_df)\n",
        "plt.text(0.95, 0.95, f'Total Issues: {total_issues}', transform=plt.gca().transAxes, ha='right', va='top', fontsize=10)\n",
        "\n",
        "plt.tight_layout()  # Adjust layout to prevent overlapping elements\n",
        "plt.show()"
      ],
      "cell_type": "code",
      "metadata": {
        "id": "oujfK4yeqQwu"
      },
      "execution_count": null,
      "outputs": []
    },
    {
      "cell_type": "markdown",
      "source": [
        "##### 1. Why did you pick the specific chart?"
      ],
      "metadata": {
        "id": "iky9q4vBYrdO"
      }
    },
    {
      "cell_type": "markdown",
      "source": [
        "I chose this bar chart because it effectively highlights the distribution of issue reports across different days of the week. Here’s why this was the best choice:\n",
        "\n",
        "🎯 Why This Chart?\n",
        "\n",
        "✅ Clear Comparison – A bar chart makes it easy to see the volume of reported issues on each day.\n",
        "\n",
        "✅ Quickly Identifies Anomalies – The massive spike in the \"Unknown\" category is immediately noticeable, signaling a potential data issue.\n",
        "\n",
        "✅ Better Decision-Making – Helps analyze workload trends and optimize agent scheduling based on issue patterns."
      ],
      "metadata": {
        "id": "aJRCwT6DYrdO"
      }
    },
    {
      "cell_type": "markdown",
      "source": [
        "##### 2. What is/are the insight(s) found from the chart?"
      ],
      "metadata": {
        "id": "F6T5p64dYrdO"
      }
    },
    {
      "cell_type": "markdown",
      "source": [
        "1️⃣ Data Quality Issue – A significant portion of issue reports are categorized as \"Unknown,\" indicating missing or incorrect data logging.\n",
        "\n",
        "2️⃣ Uneven Distribution – Issue reports are not evenly spread across the week, with noticeable spikes on Wednesday and Friday.\n",
        "\n",
        "3️⃣ Operational Blind Spot – Without accurate weekday attribution, it’s difficult to identify high-load days and optimize workforce planning."
      ],
      "metadata": {
        "id": "Xx8WAJvtYrdO"
      }
    },
    {
      "cell_type": "markdown",
      "source": [
        "##### 3. Will the gained insights help creating a positive business impact?\n",
        "Are there any insights that lead to negative growth? Justify with specific reason."
      ],
      "metadata": {
        "id": "y-Ehk30pYrdP"
      }
    },
    {
      "cell_type": "markdown",
      "source": [
        "🚀 Positive Business Impact\n",
        "\n",
        "✅ Data Cleanup & Process Improvement – Fixing the \"Unknown\" category can enhance accuracy in issue tracking.\n",
        "\n",
        "✅ Better Resource Allocation – Identifying peak days (once data is cleaned) can help optimize agent scheduling.\n",
        "\n",
        "✅ Customer Satisfaction – Addressing reporting gaps ensures smoother service and quicker resolutions.\n",
        "\n",
        "\n",
        "------\n",
        "\n",
        "⚠️ Potential Negative Growth Risks -\n",
        "\n",
        "🚨 Untracked Workload Peaks – If \"Unknown\" issues mostly belong to specific peak days, teams may be understaffed during critical hours.\n",
        "\n",
        "🚨 Inefficient Decision-Making – Business decisions based on incomplete data can lead to poor resource allocation.\n",
        "\n",
        "🚨 Compliance & Reporting Challenges – Inaccurate data logging might cause issues in SLA tracking and performance evaluation.\n",
        "\n"
      ],
      "metadata": {
        "id": "jLNxxz7MYrdP"
      }
    },
    {
      "cell_type": "markdown",
      "source": [
        "#### Chart - 5"
      ],
      "metadata": {
        "id": "bamQiAODYuh1"
      }
    },
    {
      "source": [
        "# Chart - 5 visualization code\n",
        "\n",
        "\n",
        "# 1. Prepare Your Data:\n",
        "# Assuming your DataFrame is named 'flipkart_df' and has a column 'connected_handling_time'\n",
        "# representing the response time.\n",
        "\n",
        "# 2. Create the Violin Plot with KDE:\n",
        "plt.figure(figsize=(10, 6))  # Adjust figure size as needed\n",
        "sns.violinplot(x='Agent Shift', y='connected_handling_time', data=flipkart_df,\n",
        "               inner=\"quartile\", palette='viridis', bw=.2)  # Changed inner to \"quartile\" or other valid options\n",
        "# 'inner=\"quartile\"' (or other valid options like \"box\", \"point\", \"stick\", None)\n",
        "# controls the display of data points within the violin.\n",
        "# 'bw' adjusts the bandwidth of the KDE (experiment for best visualization)\n",
        "\n",
        "\n",
        "# 3. Customize the Plot:\n",
        "plt.title('Response Time Distribution by Agent Shift', fontsize=16)\n",
        "plt.xlabel('Agent Shift', fontsize=12)\n",
        "plt.ylabel('Response Time (minutes)', fontsize=12)\n",
        "plt.xticks(rotation=45, ha='right', fontsize=10)\n",
        "plt.grid(axis='y', alpha=0.5)\n",
        "sns.despine(top=True, right=True)\n",
        "\n",
        "\n",
        "plt.tight_layout()\n",
        "plt.show()"
      ],
      "cell_type": "code",
      "metadata": {
        "id": "GC1WUP4aAlO8"
      },
      "execution_count": null,
      "outputs": []
    },
    {
      "cell_type": "markdown",
      "source": [
        "##### 1. Why did you pick the specific chart?"
      ],
      "metadata": {
        "id": "QHF8YVU7Yuh3"
      }
    },
    {
      "cell_type": "markdown",
      "source": [
        "This violin plot was chosen because it provides a comprehensive view of response time distributions across different agent shifts.\n",
        "\n",
        "🎯 Why This Chart?\n",
        "\n",
        "✅ Shows distribution & density of response times, revealing shifts with the highest variability.\n",
        "\n",
        "✅ Identifies outliers & bottlenecks, such as extreme response times during specific shifts.\n",
        "\n",
        "✅ Facilitates workforce optimization by helping adjust staffing to reduce delays.\n",
        "\n"
      ],
      "metadata": {
        "id": "dcxuIMRPYuh3"
      }
    },
    {
      "cell_type": "markdown",
      "source": [
        "##### 2. What is/are the insight(s) found from the chart?"
      ],
      "metadata": {
        "id": "GwzvFGzlYuh3"
      }
    },
    {
      "cell_type": "markdown",
      "source": [
        "1️⃣ Morning Shift Has High Variability :-\n",
        "The morning shift exhibits wide distribution and extreme outliers, indicating inconsistent response times. Some cases take significantly longer, impacting customer experience.\n",
        "\n",
        "2️⃣ Evening Shift is More Consistent :-\n",
        "The response times are clustered with fewer extreme delays, suggesting more stable operations.\n",
        "\n",
        "3️⃣ Split & Night Shifts Have Lower Response Time Variability :-\n",
        "These shifts have narrower distributions, meaning response times are generally predictable and steady."
      ],
      "metadata": {
        "id": "uyqkiB8YYuh3"
      }
    },
    {
      "cell_type": "markdown",
      "source": [
        "##### 3. Will the gained insights help creating a positive business impact?\n",
        "Are there any insights that lead to negative growth? Justify with specific reason."
      ],
      "metadata": {
        "id": "qYpmQ266Yuh3"
      }
    },
    {
      "cell_type": "markdown",
      "source": [
        "🚀 Positive Business Impact from Insights\n",
        "\n",
        "Yes! The insights will drive positive business growth by enabling:\n",
        "\n",
        "✅ Workforce Optimization – Adjust agent scheduling to reduce high response times in the morning and afternoon shifts.\n",
        "\n",
        "✅ Improved Customer Satisfaction (CSAT) – Reducing long response times will lead to happier customers and better retention.\n",
        "\n",
        "----\n",
        "\n",
        "⚠️ Potential Negative Growth Risks\n",
        "\n",
        "🚨 High Variability in Response Time (Morning & Afternoon Shifts) -\n",
        "Impact: Customers experiencing long delays may leave negative feedback, hurting brand reputation and CSAT scores.\n",
        "\n",
        "🚨 Understaffing During Critical Hours -\n",
        "Impact: If resources are misallocated (e.g., fewer agents during high-volume periods), customer dissatisfaction may rise.\n"
      ],
      "metadata": {
        "id": "_WtzZ_hCYuh4"
      }
    },
    {
      "cell_type": "markdown",
      "source": [
        "#### Chart - 6"
      ],
      "metadata": {
        "id": "OH-pJp9IphqM"
      }
    },
    {
      "source": [
        "# Chart - 6 visualization code\n",
        "\n",
        "\n",
        "# Get shift distribution data\n",
        "shift_counts = flipkart_df.groupby('Agent Shift').size()\n",
        "shifts = shift_counts.index\n",
        "counts = shift_counts.values\n",
        "\n",
        "# Create the plot using Seaborn for better styling\n",
        "plt.figure(figsize=(10, 6))  # Adjust figure size as needed\n",
        "sns.barplot(x=shifts, y=counts, palette=\"viridis\")  # Use a professional color palette\n",
        "plt.title('Distribution of Issues by Agent Shift', fontsize=16)  # Clear and concise title\n",
        "plt.xlabel('Agent Shift', fontsize=12)  # Label the x-axis\n",
        "plt.ylabel('Number of Issues', fontsize=12)  # Label the y-axis\n",
        "\n",
        "# Customize the plot for a professional look\n",
        "plt.xticks(rotation=45, ha='right', fontsize=10)  # Rotate x-axis labels for readability\n",
        "plt.yticks(fontsize=10)\n",
        "plt.grid(axis='y', alpha=0.5)  # Add subtle gridlines\n",
        "sns.despine(top=True, right=True)  # Remove top and right spines\n",
        "\n",
        "# Add data labels for better understanding\n",
        "for i, count in enumerate(counts):\n",
        "    plt.text(i, count + 50, str(count), ha='center', va='bottom', fontsize=10)  # Adjust position as needed\n",
        "\n",
        "plt.tight_layout()  # Adjust layout to prevent overlapping elements\n",
        "plt.show()"
      ],
      "cell_type": "code",
      "metadata": {
        "id": "flApztgf6Oo_"
      },
      "execution_count": null,
      "outputs": []
    },
    {
      "cell_type": "markdown",
      "source": [
        "##### 1. Why did you pick the specific chart?"
      ],
      "metadata": {
        "id": "bbFf2-_FphqN"
      }
    },
    {
      "cell_type": "markdown",
      "source": [
        "I chose this bar chart because it effectively visualizes the distribution of customer issues across different agent shifts, making it easy to identify workload imbalances.\n",
        "\n",
        "🎯 Why This Chart?\n",
        "\n",
        "✅ Clear comparison of issue volume across shifts.\n",
        "\n",
        "✅ Straightforward insights on peak vs. low activity times.\n",
        "\n",
        "✅ Actionable takeaways for resource allocation & workforce optimization.\n",
        "\n",
        "This chart helps decision-makers quickly spot inefficiencies and strategize staffing for better customer support! 🚀"
      ],
      "metadata": {
        "id": "loh7H2nzphqN"
      }
    },
    {
      "cell_type": "markdown",
      "source": [
        "##### 2. What is/are the insight(s) found from the chart?"
      ],
      "metadata": {
        "id": "_ouA3fa0phqN"
      }
    },
    {
      "cell_type": "markdown",
      "source": [
        "1️⃣ Morning & Evening shifts handle the bulk of issues (41,426 and 33,677 cases, respectively).\n",
        "\n",
        "2️⃣ Afternoon and Split shifts have significantly fewer issues, while Night shift sees the least cases (1,316).\n",
        "\n",
        "3️⃣ High load during peak hours (Morning & Evening) suggests resource allocation optimization is needed."
      ],
      "metadata": {
        "id": "VECbqPI7phqN"
      }
    },
    {
      "cell_type": "markdown",
      "source": [
        "##### 3. Will the gained insights help creating a positive business impact?\n",
        "Are there any insights that lead to negative growth? Justify with specific reason."
      ],
      "metadata": {
        "id": "Seke61FWphqN"
      }
    },
    {
      "cell_type": "markdown",
      "source": [
        "✅ Positive: Better shift planning can reduce workload imbalance, optimize staffing, and enhance customer experience by aligning agent availability with issue volume.\n",
        "\n",
        "⚠️ Potential Negative Growth: If peak-hour overload isn't managed, it can lead to longer resolution times, agent burnout, and lower customer satisfaction."
      ],
      "metadata": {
        "id": "DW4_bGpfphqN"
      }
    },
    {
      "cell_type": "markdown",
      "source": [
        "#### Chart - 7"
      ],
      "metadata": {
        "id": "PIIx-8_IphqN"
      }
    },
    {
      "source": [
        "# Chart - 7 visualization code\n",
        "\n",
        "# Assuming 'connected_handling_time' is the correct column name\n",
        "plt.figure(figsize=(8, 5))\n",
        "sns.boxplot(x='CSAT Score', y='connected_handling_time', data=flipkart_df, hue='CSAT Score', palette='coolwarm', legend=False)\n",
        "plt.title('Impact of Handling Time on CSAT Score')\n",
        "plt.xlabel('CSAT Score')\n",
        "plt.ylabel('Handling Time (minutes)')\n",
        "plt.show()"
      ],
      "cell_type": "code",
      "metadata": {
        "id": "L1mbY5ah7Xyi"
      },
      "execution_count": null,
      "outputs": []
    },
    {
      "cell_type": "markdown",
      "source": [
        "##### 1. Why did you pick the specific chart?"
      ],
      "metadata": {
        "id": "t27r6nlMphqO"
      }
    },
    {
      "cell_type": "markdown",
      "source": [
        "The box plot was chosen to analyze the impact of handling time on CSAT (Customer Satisfaction) Score because:\n",
        "\n",
        "\n",
        "1.   Clear Representation of Distribution & Variability -\n",
        "A box plot effectively shows the spread of handling times for different CSAT scores.\n",
        "It highlights the median, quartiles, and outliers in the data.\n",
        "\n",
        "2.   Detecting Outliers & Trends -\n",
        "The chart helps identify extreme handling times that might affect CSAT scores.\n",
        "Example: Some very high handling times (outliers) in CSAT scores 1 and 5 could indicate process inefficiencies.\n",
        "\n",
        "3.   Comparing Handling Time Across CSAT Scores -  \n",
        "The boxes allow an easy comparison of how handling time varies as CSAT score increases.It helps understand whether shorter or longer handling times lead to better satisfaction.\n",
        "\n",
        "\n",
        "\n",
        "\n",
        "\n"
      ],
      "metadata": {
        "id": "iv6ro40sphqO"
      }
    },
    {
      "cell_type": "markdown",
      "source": [
        "##### 2. What is/are the insight(s) found from the chart?"
      ],
      "metadata": {
        "id": "r2jJGEOYphqO"
      }
    },
    {
      "cell_type": "markdown",
      "source": [
        "\n",
        "1.   Lower CSAT Scores (1-2) Show Higher Variability in Handling Time -\n",
        "The spread (interquartile range) is wider for CSAT scores 1 and 3, indicating inconsistent handling times for dissatisfied customers.\n",
        "Some extreme outliers (e.g., 2000 minutes for CSAT 1) suggest that very high handling times lead to lower satisfaction.\n",
        "\n",
        "2.   CSAT Scores 3-5 Have a More Stable Handling Time -\n",
        "The handling time distribution for CSAT 4 and 5 is more compact, meaning customers who gave higher ratings experienced more consistent response times.\n",
        "Even though some long handling times exist in CSAT 5, they don’t seem to negatively impact customer satisfaction as much.\n",
        "\n",
        "3.   No Clear Linear Relationship Between Handling Time and CSAT -\n",
        "While extremely long handling times correlate with low CSAT (1-2), moderate handling times appear across all CSAT levels.\n",
        "This suggests that other factors (e.g., resolution quality, agent behavior, communication skills) also impact satisfaction.\n",
        "\n",
        "\n",
        "\n",
        "\n",
        "\n"
      ],
      "metadata": {
        "id": "Po6ZPi4hphqO"
      }
    },
    {
      "cell_type": "markdown",
      "source": [
        "##### 3. Will the gained insights help creating a positive business impact?\n",
        "Are there any insights that lead to negative growth? Justify with specific reason."
      ],
      "metadata": {
        "id": "b0JNsNcRphqO"
      }
    },
    {
      "cell_type": "markdown",
      "source": [
        "✅ Positive Impact:\n",
        "\n",
        "The insights help optimize handling time, ensuring faster and more consistent resolutions, leading to higher customer satisfaction (CSAT) and better retention rates. Addressing long wait times for low CSAT cases can reduce churn and improve brand trust.\n",
        "\n",
        "⚠️ Potential Negative Growth:\n",
        "\n",
        "If the focus is solely on reducing handling time without improving resolution quality, customers may feel rushed and dissatisfied. Faster isn’t always better—balancing efficiency with effective problem-solving is key to sustainable growth."
      ],
      "metadata": {
        "id": "xvSq8iUTphqO"
      }
    },
    {
      "cell_type": "markdown",
      "source": [
        "#### Chart - 8"
      ],
      "metadata": {
        "id": "BZR9WyysphqO"
      }
    },
    {
      "cell_type": "code",
      "source": [
        "# Chart - 8 visualization code\n",
        "\n",
        "import matplotlib.pyplot as plt\n",
        "import seaborn as sns\n",
        "import pandas as pd\n",
        "\n",
        "# 1. Get the top 10 categories from the one-hot encoded columns\n",
        "# Assuming your one-hot encoded columns start with 'category_'\n",
        "category_columns = [col for col in flipkart_df.columns if col.startswith('category_')]\n",
        "top_10_categories = flipkart_df[category_columns].sum().sort_values(ascending=False).head(10).index\n",
        "\n",
        "# 2. The filtered_df is not needed anymore as we're working with aggregated data\n",
        "# 3. Create the plot\n",
        "plt.figure(figsize=(12, 6))  # Adjust figure size as needed\n",
        "sns.barplot(x=top_10_categories, y=flipkart_df[top_10_categories].sum().values, palette='viridis') # Use barplot for aggregated data\n",
        "plt.title('Top 10 Categories of Customer Support Issues', fontsize=16)\n",
        "plt.xlabel('Category', fontsize=12)\n",
        "plt.ylabel('Number of Issues', fontsize=12)\n",
        "plt.xticks(rotation=45, ha='right', fontsize=10)  # Rotate x-axis labels for readability\n",
        "plt.yticks(fontsize=10)\n",
        "plt.grid(axis='y', alpha=0.5)  # Add subtle gridlines\n",
        "sns.despine(top=True, right=True)  # Remove top and right spines\n",
        "\n",
        "# 4. Data labels are already present in the barplot\n",
        "\n",
        "plt.tight_layout()  # Adjust layout to prevent overlapping elements\n",
        "plt.show()"
      ],
      "metadata": {
        "id": "TdPTWpAVphqO"
      },
      "execution_count": null,
      "outputs": []
    },
    {
      "cell_type": "markdown",
      "source": [
        "##### 1. Why did you pick the specific chart?"
      ],
      "metadata": {
        "id": "jj7wYXLtphqO"
      }
    },
    {
      "cell_type": "markdown",
      "source": [
        "A bar chart is the best choice for visualizing the top 10 categories of customer support issues because:\n",
        "\n",
        "1.  Clear Comparison Across Categories -\n",
        "A bar chart allows easy comparison of issue volume across different categories.\n",
        "The length of bars makes it intuitive to identify which categories have the most complaints.\n",
        "\n",
        "\n",
        "2.  Emphasizes Key Problem Areas -\n",
        "It highlights which issues occur the most (e.g., Returns & Order-Related).\n",
        "Helps businesses prioritize areas for improvement.\n",
        "\n",
        "3.  Easier Decision-Making -\n",
        "The chart provides a quick overview, helping leadership teams allocate resources effectively.\n",
        "Example: If \"Returns\" have the highest complaints, the company can focus on return policy enhancements."
      ],
      "metadata": {
        "id": "Ob8u6rCTphqO"
      }
    },
    {
      "cell_type": "markdown",
      "source": [
        "##### 2. What is/are the insight(s) found from the chart?"
      ],
      "metadata": {
        "id": "eZrbJ2SmphqO"
      }
    },
    {
      "cell_type": "markdown",
      "source": [
        "\n",
        "\n",
        "1.   High Volume of Return & Order-Related Issues:\n",
        "The \"Returns\" category has the highest number of support issues (42,000+), followed by \"Order Related\" (22,000+).\n",
        "This suggests that return policies, product quality, or logistics may be major pain points.\n",
        "\n",
        "\n",
        "2.   Refund and Product Queries Are Notable:\n",
        "Refund-related issues (~4,000) and Product Queries (3,500) indicate concerns with transaction reversals and product details.\n",
        "\n",
        "3.   Cancellation, Payments & Feedback Are Relatively Lower:\n",
        "Issues related to cancellations, payments, and feedback are significantly lower, indicating they may be less problematic or well-managed.\n",
        "\n",
        "\n"
      ],
      "metadata": {
        "id": "mZtgC_hjphqO"
      }
    },
    {
      "cell_type": "markdown",
      "source": [
        "##### 3. Will the gained insights help creating a positive business impact?\n",
        "Are there any insights that lead to negative growth? Justify with specific reason."
      ],
      "metadata": {
        "id": "rFu4xreNphqO"
      }
    },
    {
      "cell_type": "markdown",
      "source": [
        "✅ Positive Opportunities:\n",
        "\n",
        "*   Enhancing return policies and order tracking features can improve customer satisfaction and reduce issue volume.\n",
        "\n",
        "*   Addressing refund & product query concerns can boost customer confidence and increase conversions.\n",
        "\n",
        "\n",
        "⚠️ Negative Growth Risks:\n",
        "\n",
        "*   Frequent returns may indicate product dissatisfaction, leading to revenue loss & operational costs.\n",
        "\n",
        "*   High order-related complaints may signal inefficiencies in inventory, logistics, or product information.\n",
        "\n",
        "\n",
        "\n",
        "\n"
      ],
      "metadata": {
        "id": "ey_0qi68phqO"
      }
    },
    {
      "cell_type": "markdown",
      "source": [
        "#### Chart - 9"
      ],
      "metadata": {
        "id": "YJ55k-q6phqO"
      }
    },
    {
      "source": [
        "\n",
        "\n",
        "\n",
        "# 1. Prepare data: Group by tenure and calculate average CSAT score\n",
        "tenure_csat = flipkart_df.groupby('Tenure Bucket')['CSAT Score'].mean().reset_index()\n",
        "\n",
        "# 2. Sort tenure buckets for a logical order in the plot (if needed)\n",
        "# Convert 'Tenure Bucket' to string type to handle mixed types:\n",
        "tenure_order = sorted(flipkart_df['Tenure Bucket'].astype(str).unique())\n",
        "tenure_csat['Tenure Bucket'] = pd.Categorical(tenure_csat['Tenure Bucket'], categories=tenure_order, ordered=True)\n",
        "tenure_csat = tenure_csat.sort_values('Tenure Bucket')\n",
        "\n",
        "# 3. Create the grouped box plot with color gradient\n",
        "plt.figure(figsize=(10, 6))\n",
        "sns.boxplot(x='Tenure Bucket', y='CSAT Score', data=flipkart_df, palette=\"viridis\", showfliers=False)\n",
        "# showfliers=False removes outlier points for a cleaner look\n",
        "\n",
        "# 4. Customize for a more creative look:\n",
        "plt.title('CSAT Score Distribution by Tenure (with Color Gradient)', fontsize=16)\n",
        "plt.xlabel('Agent Tenure', fontsize=12)\n",
        "plt.ylabel('CSAT Score', fontsize=12)\n",
        "plt.xticks(rotation=45, ha='right', fontsize=10)\n",
        "plt.grid(axis='y', alpha=0.5)\n",
        "sns.despine(top=True, right=True)\n",
        "\n",
        "# 5. (Optional) Add a connecting line to highlight the trend\n",
        "# This helps show the overall trend of CSAT scores across tenure\n",
        "plt.plot(tenure_csat['Tenure Bucket'].cat.codes, tenure_csat['CSAT Score'], marker='o', color='red', linestyle='--', label='Average CSAT')\n",
        "plt.legend() # Show the legend for the line\n",
        "\n",
        "plt.tight_layout()\n",
        "plt.show()"
      ],
      "cell_type": "code",
      "metadata": {
        "id": "Y_T1yvEU_yOL"
      },
      "execution_count": null,
      "outputs": []
    },
    {
      "cell_type": "markdown",
      "source": [
        "##### 1. Why did you pick the specific chart?"
      ],
      "metadata": {
        "id": "gCFgpxoyphqP"
      }
    },
    {
      "cell_type": "markdown",
      "source": [
        "This box plot with a color gradient was chosen because:\n",
        "\n",
        "📌 Effective Comparison: It visually compares CSAT score distribution across different agent tenure groups in a single view.\n",
        "\n",
        "📌 Trend Identification: The red dashed line (Average CSAT) helps highlight fluctuations in satisfaction scores over tenure periods.\n",
        "\n",
        "📌 Outlier Detection: Box plots clearly show variations, including potential dips or consistency in performance, which is crucial for insights."
      ],
      "metadata": {
        "id": "TVxDimi2phqP"
      }
    },
    {
      "cell_type": "markdown",
      "source": [
        "##### 2. What is/are the insight(s) found from the chart?"
      ],
      "metadata": {
        "id": "OVtJsKN_phqQ"
      }
    },
    {
      "cell_type": "markdown",
      "source": [
        "1️⃣ CSAT scores are relatively stable across different agent tenure groups, with slight fluctuations.\n",
        "\n",
        "2️⃣ Newer agents (On Job Training & <30 days) have similar CSAT scores to experienced agents (>90 days), indicating that training programs may be effective in preparing agents.\n",
        "\n",
        "3️⃣ CSAT slightly declines for agents in the 31-90 day range, suggesting possible burnout, complacency, or gaps in continuous learning."
      ],
      "metadata": {
        "id": "ngGi97qjphqQ"
      }
    },
    {
      "cell_type": "markdown",
      "source": [
        "##### 3. Will the gained insights help creating a positive business impact?\n",
        "Are there any insights that lead to negative growth? Justify with specific reason."
      ],
      "metadata": {
        "id": "lssrdh5qphqQ"
      }
    },
    {
      "cell_type": "markdown",
      "source": [
        "✅ Positive Impact:\n",
        "\n",
        "\n",
        "\n",
        "*   A well-structured training program ensures that even new agents perform at a high level, leading to consistent customer satisfaction.\n",
        "\n",
        "*   Stable CSAT across tenure groups suggests hiring and onboarding processes are working well.\n",
        "\n",
        "\n",
        "❌ Potential Negative Impact:\n",
        "\n",
        "*   The dip in CSAT for agents with 31-90 days tenure could indicate motivation or learning curve issues. If left unaddressed, this could lead to dissatisfied customers and reduced efficiency.\n",
        "\n",
        "*   Ensuring continuous skill development, engagement, and support for mid-tenure agents can prevent this decline.\n",
        "\n"
      ],
      "metadata": {
        "id": "tBpY5ekJphqQ"
      }
    },
    {
      "cell_type": "markdown",
      "source": [
        "#### Chart - 10"
      ],
      "metadata": {
        "id": "U2RJ9gkRphqQ"
      }
    },
    {
      "cell_type": "code",
      "source": [
        "# Chart - 10 visualization code\n",
        "\n",
        "\n",
        "# Assuming your DataFrame is named 'flipkart_df'\n",
        "# and has columns 'CSAT Score' and 'connected_handling_time'\n",
        "\n",
        "# 1. Create the Violin Plot for Response Time Distribution:\n",
        "plt.figure(figsize=(10, 6))\n",
        "sns.violinplot(x='CSAT Score', y='connected_handling_time', data=flipkart_df,\n",
        "               inner=\"quartile\", palette='viridis', bw=.2)\n",
        "\n",
        "# 2. Overlay a Box Plot for Statistical Summary:\n",
        "sns.boxplot(x='CSAT Score', y='connected_handling_time', data=flipkart_df,\n",
        "            width=0.3, boxprops={'zorder': 2}, showfliers=False)  # showfliers=False to remove outliers\n",
        "\n",
        "# 3. Customize for a More Creative Look:\n",
        "plt.title('CSAT Score vs Response Time Distribution', fontsize=16)\n",
        "plt.xlabel('CSAT Score', fontsize=12)\n",
        "plt.ylabel('Response Time (minutes)', fontsize=12)\n",
        "plt.xticks(rotation=45, ha='right', fontsize=10)\n",
        "plt.grid(axis='y', alpha=0.5)\n",
        "sns.despine(top=True, right=True)\n",
        "\n",
        "# 4. (Optional) Add a Connecting Line to Highlight the Trend:\n",
        "# This helps show the overall trend of response time across CSAT scores\n",
        "# Calculate median response time for each CSAT score\n",
        "median_response_times = flipkart_df.groupby('CSAT Score')['connected_handling_time'].median()\n",
        "plt.plot(median_response_times.index, median_response_times.values,\n",
        "         marker='o', color='red', linestyle='--', label='Median Response Time')\n",
        "plt.legend()\n",
        "\n",
        "plt.tight_layout()\n",
        "plt.show()"
      ],
      "metadata": {
        "id": "GM7a4YP4phqQ"
      },
      "execution_count": null,
      "outputs": []
    },
    {
      "cell_type": "markdown",
      "source": [
        "##### 1. Why did you pick the specific chart?"
      ],
      "metadata": {
        "id": "1M8mcRywphqQ"
      }
    },
    {
      "cell_type": "markdown",
      "source": [
        "The violin plot was chosen because:\n",
        "\n",
        "📊 Distribution Insights – It visually captures the spread and density of response times for different CSAT scores. This helps identify clusters and outliers that might be influencing customer satisfaction.\n",
        "\n",
        "📌 Comparison Across CSAT Scores – The plot allows easy comparison of response time distributions for different CSAT ratings, revealing whether longer response times lead to lower satisfaction.\n",
        "\n",
        "🔴 Median Trend Analysis – The red dashed line highlights how the median response time changes with CSAT score, offering a clear trend to analyze service efficiency vs. customer perception."
      ],
      "metadata": {
        "id": "8agQvks0phqQ"
      }
    },
    {
      "cell_type": "markdown",
      "source": [
        "##### 2. What is/are the insight(s) found from the chart?"
      ],
      "metadata": {
        "id": "tgIPom80phqQ"
      }
    },
    {
      "cell_type": "markdown",
      "source": [
        "1️⃣ Faster Responses → Higher CSAT Scores\n",
        "\n",
        "\n",
        "\n",
        "*   Lower CSAT scores (1-2) have a wider and more spread-out distribution of response times, meaning customers who waited longer were more dissatisfied.\n",
        "\n",
        "*   Higher CSAT scores (4-5) tend to have lower median response times, indicating that quicker responses generally lead to better satisfaction.\n",
        "\n",
        "2️⃣ Inconsistent Response Time for Low CSAT Scores\n",
        "\n",
        "\n",
        "\n",
        "*   The distribution for CSAT 1 and 2 is highly variable, with some customers experiencing very high response times (over 1000 minutes). This inconsistency might be a reason for dissatisfaction.\n",
        "\n",
        "3️⃣ Optimal Response Time for Best Satisfaction\n",
        "\n",
        "*   CSAT 4 and 5 show a more consistent and moderate response time range, suggesting an ideal threshold for response time that keeps customers happy.\n",
        "\n",
        "*   Reducing extreme delays could help improve scores for lower-rated experiences.\n",
        "\n",
        "\n",
        "\n",
        "\n"
      ],
      "metadata": {
        "id": "Qp13pnNzphqQ"
      }
    },
    {
      "cell_type": "markdown",
      "source": [
        "##### 3. Will the gained insights help creating a positive business impact?\n",
        "Are there any insights that lead to negative growth? Justify with specific reason."
      ],
      "metadata": {
        "id": "JMzcOPDDphqR"
      }
    },
    {
      "cell_type": "markdown",
      "source": [
        "✅ Positive Business Impact:\n",
        "\n",
        "1️⃣ Faster Response → Higher CSAT → Customer Retention 🚀\n",
        "\n",
        "\n",
        "*   By reducing response times, especially for lower-rated experiences, the business can improve customer satisfaction and increase retention rates.\n",
        "\n",
        "*   Happy customers are more likely to return, recommend, and engage, leading to higher revenue and a stronger brand reputation.\n",
        "\n",
        "\n",
        "2️⃣ Optimized Support Efficiency 📈\n",
        "\n",
        "\n",
        "*   Understanding the ideal response time range (observed in CSAT 4-5) can help allocate resources effectively.\n",
        "\n",
        "*   Support teams can prioritize critical cases and streamline processes to maintain high CSAT scores.\n",
        "\n",
        "❌ Potential for Negative Growth:\n",
        "\n",
        "1️⃣ Inconsistent Response Times = Customer Frustration\n",
        "\n",
        "\n",
        "*   The high variance in response times for CSAT 1-2 indicates some customers wait too long, leading to negative word-of-mouth and churn.\n",
        "\n",
        "*   Delays and inefficiencies in support operations could cause reputational damage if not addressed.\n",
        "\n",
        "\n",
        "\n",
        "\n",
        "\n"
      ],
      "metadata": {
        "id": "R4Ka1PC2phqR"
      }
    },
    {
      "cell_type": "markdown",
      "source": [
        "#### Chart - 11"
      ],
      "metadata": {
        "id": "x-EpHcCOp1ci"
      }
    },
    {
      "source": [
        "import matplotlib.pyplot as plt\n",
        "import pandas as pd\n",
        "\n",
        "# Assuming your DataFrame is named 'flipkart_df'\n",
        "# and has columns 'Agent Shift', 'category', and 'CSAT Score'\n",
        "\n",
        "# 1. Group data and calculate average CSAT score for each agent shift and category\n",
        "# Use the one-hot encoded category columns instead of 'category'\n",
        "category_columns = [col for col in flipkart_df.columns if col.startswith('category_')]\n",
        "grouped_data = flipkart_df.groupby(['Agent Shift'] + category_columns)['CSAT Score'].mean().reset_index()\n",
        "\n",
        "# 2. Reshape data for stacked bar chart using pandas melt\n",
        "melted_data = pd.melt(grouped_data, id_vars=['Agent Shift'], value_vars=category_columns,\n",
        "                      var_name='Issue Category', value_name='Average CSAT Score')\n",
        "\n",
        "# 3. Create the stacked bar chart\n",
        "plt.figure(figsize=(12, 8))\n",
        "\n",
        "#---Changes here to avoid duplicate entries error---\n",
        "# Instead of pivot, use groupby and unstack to handle duplicates\n",
        "pivot_data = melted_data.groupby(['Agent Shift', 'Issue Category'])['Average CSAT Score'].mean().unstack()\n",
        "#-------------------------------------------------\n",
        "\n",
        "pivot_data.plot(kind='bar', stacked=True, colormap='viridis')\n",
        "\n",
        "plt.title('Agent Shift vs. Issue Category vs. CSAT Score (Stacked Bar Chart)')\n",
        "plt.xlabel('Agent Shift')\n",
        "plt.ylabel('Average CSAT Score')\n",
        "plt.xticks(rotation=45, ha='right')\n",
        "plt.legend(title='Issue Category', bbox_to_anchor=(1.05, 1), loc='upper left')\n",
        "plt.tight_layout()\n",
        "plt.show()"
      ],
      "cell_type": "code",
      "metadata": {
        "id": "DTaMutgm7juC"
      },
      "execution_count": null,
      "outputs": []
    },
    {
      "cell_type": "markdown",
      "source": [
        "##### 1. Why did you pick the specific chart?"
      ],
      "metadata": {
        "id": "X_VqEhTip1ck"
      }
    },
    {
      "cell_type": "markdown",
      "source": [
        "I chose a stacked bar chart because:\n",
        "\n",
        "📊 Comparative Analysis: It allows a clear comparison of CSAT scores across different agent shifts (Afternoon, Evening, Morning, Night, and Split).\n",
        "\n",
        "🎯 Multi-Dimensional Insights: It efficiently visualizes how different issue categories contribute to CSAT scores within each shift, making it easy to identify patterns or problem areas.\n",
        "\n",
        "🚦 Easy Identification of Trends: The stacked format highlights consistency or discrepancies in service quality, making it a great choice for evaluating overall customer satisfaction."
      ],
      "metadata": {
        "id": "-vsMzt_np1ck"
      }
    },
    {
      "cell_type": "markdown",
      "source": [
        "##### 2. What is/are the insight(s) found from the chart?"
      ],
      "metadata": {
        "id": "8zGJKyg5p1ck"
      }
    },
    {
      "cell_type": "markdown",
      "source": [
        "✅ Consistent CSAT Across Shifts: The average Customer Satisfaction (CSAT) score remains high across all shifts (Afternoon, Evening, Morning, Night, and Split). This indicates that service quality is evenly maintained, reducing any time-based service bias.\n",
        "\n",
        "✅ Issue Category Distribution Remains Similar: The stacked bars show a balanced representation of issue categories across all shifts, meaning no particular shift is disproportionately handling specific complaints.\n",
        "\n",
        "⚠️ Potential Concerns:\n",
        "\n",
        "🔻 Cancellation & Refund Issues Exist in All Shifts: These categories (dark purple & yellow) consistently appear across shifts, suggesting persistent customer dissatisfaction that should be addressed."
      ],
      "metadata": {
        "id": "ZYdMsrqVp1ck"
      }
    },
    {
      "cell_type": "markdown",
      "source": [
        "##### 3. Will the gained insights help creating a positive business impact?\n",
        "Are there any insights that lead to negative growth? Justify with specific reason."
      ],
      "metadata": {
        "id": "PVzmfK_Ep1ck"
      }
    },
    {
      "cell_type": "markdown",
      "source": [
        "🚀 Positive: The uniformity in CSAT scores suggests strong operational efficiency and consistent customer experience, regardless of shift timing.\n",
        "\n",
        "⚠️ Negative: If cancellation & refund-related issues aren't addressed proactively, they could erode long-term customer trust and loyalty."
      ],
      "metadata": {
        "id": "druuKYZpp1ck"
      }
    },
    {
      "cell_type": "markdown",
      "source": [
        "#### Chart - 12"
      ],
      "metadata": {
        "id": "n3dbpmDWp1ck"
      }
    },
    {
      "source": [
        "# Chart - 12 visualization code\n",
        "\n",
        "\n",
        "\n",
        "import plotly.express as px\n",
        "\n",
        "# Assuming your DataFrame is named 'flipkart_df'\n",
        "# and has columns 'Item_price', 'connected_handling_time', and 'CSAT Score'\n",
        "\n",
        "fig = px.scatter_3d(flipkart_df,\n",
        "                    x='Item_price',\n",
        "                    y='connected_handling_time',\n",
        "                    z='CSAT Score',\n",
        "                    color='CSAT Score',  # Color points by CSAT Score\n",
        "                    color_continuous_scale='viridis',  # Use a color scale\n",
        "                    opacity=0.7,  # Adjust transparency\n",
        "                    title=\"3D Scatter Plot: Item Price, Response Time & CSAT Score\"\n",
        "                   )\n",
        "\n",
        "fig.update_layout(scene=dict(\n",
        "    xaxis_title='Item Price',\n",
        "    yaxis_title='Response Time',\n",
        "    zaxis_title='CSAT Score'\n",
        "))\n",
        "\n",
        "fig.show()"
      ],
      "cell_type": "code",
      "metadata": {
        "id": "e3j7Y7OhbPqP"
      },
      "execution_count": null,
      "outputs": []
    },
    {
      "cell_type": "markdown",
      "source": [
        "##### 1. Why did you pick the specific chart?"
      ],
      "metadata": {
        "id": "ylSl6qgtp1ck"
      }
    },
    {
      "cell_type": "markdown",
      "source": [
        "This 3D Scatter Plot was chosen because it provides a multi-dimensional view of key factors affecting customer satisfaction:\n",
        "\n",
        "\n",
        "*   X-axis (Item Price): Shows how price impacts response time and CSAT.\n",
        "\n",
        "*   Y-axis (Response Time): Indicates how quickly issues are addressed.\n",
        "\n",
        "*   Z-axis (CSAT Score): Highlights customer satisfaction trends.\n",
        "\n",
        "*   Color Gradient: Represents CSAT levels (yellow = high, purple = low).\n",
        "\n",
        "\n",
        "\n",
        "\n"
      ],
      "metadata": {
        "id": "m2xqNkiQp1ck"
      }
    },
    {
      "cell_type": "markdown",
      "source": [
        "##### 2. What is/are the insight(s) found from the chart?"
      ],
      "metadata": {
        "id": "ZWILFDl5p1ck"
      }
    },
    {
      "cell_type": "markdown",
      "source": [
        "The 3D Scatter Plot reveals key insights about the relationship between Item Price, Response Time, and CSAT Score:\n",
        "\n",
        "\n",
        "\n",
        "1.   Higher Prices → Lower Satisfaction: Items with higher prices tend to have lower CSAT scores (darker shades).\n",
        "This suggests that customers expect better service for expensive items, and unmet expectations lead to dissatisfaction.\n",
        "\n",
        "\n",
        "2.   Longer Response Times → Lower Satisfaction:As response time increases, CSAT scores tend to decrease.\n",
        "Faster responses (left side of the Y-axis) correlate with higher satisfaction (yellow-green dots), reinforcing the importance of quick support.\n",
        "\n",
        "\n",
        "3.   Low-Priced Items Have Varied Satisfaction:Some low-priced items have high satisfaction, while others have very low ratings.\n",
        "This could mean that factors beyond price, such as service quality, product expectations, or issue resolution, play a role.\n",
        "\n",
        "\n",
        "\n",
        "\n"
      ],
      "metadata": {
        "id": "x-lUsV2mp1ck"
      }
    },
    {
      "cell_type": "markdown",
      "source": [
        "##### 3. Will the gained insights help creating a positive business impact?\n",
        "Are there any insights that lead to negative growth? Justify with specific reason."
      ],
      "metadata": {
        "id": "M7G43BXep1ck"
      }
    },
    {
      "cell_type": "markdown",
      "source": [
        "🚀 Positive Impact:\n",
        "\n",
        "✅ Faster Response = Happier Customers → Prioritizing quick issue resolution will boost CSAT scores.\n",
        "\n",
        "✅ Better Support for High-Priced Items → Meeting expectations here can reduce churn and improve brand loyalty.\n",
        "\n",
        "✅ Fixing Low-CSAT Areas → Addressing key dissatisfaction factors can increase repeat purchases.\n",
        "\n",
        "----\n",
        "\n",
        "\n",
        "⚠️ Potential Negative Growth Triggers:\n",
        "\n",
        "🔻 Delayed Response = Lost Customers → Slow support is directly tied to lower satisfaction and retention.\n",
        "\n",
        "🔻 High-Price, Low-CSAT = Bad Reputation → If expensive items consistently disappoint, it can hurt premium sales and brand perception.\n",
        "\n",
        "🔻 Ignoring Service Over Price → Focusing only on pricing without improving support quality will not fix customer dissatisfaction."
      ],
      "metadata": {
        "id": "5wwDJXsLp1cl"
      }
    },
    {
      "cell_type": "markdown",
      "source": [
        "#### Chart - 13"
      ],
      "metadata": {
        "id": "Ag9LCva-p1cl"
      }
    },
    {
      "cell_type": "code",
      "source": [
        "\n",
        "import plotly.express as px\n",
        "import pandas as pd\n",
        "\n",
        "# Assuming your DataFrame is named 'flipkart_df'\n",
        "# and has columns 'category', 'connected_handling_time', and 'CSAT Score'\n",
        "\n",
        "# 1. Prepare data for the bubble chart\n",
        "# Use one-hot encoded category columns\n",
        "category_columns = [col for col in flipkart_df.columns if col.startswith('category_')]\n",
        "# Melt the data to have one row per category for each data point\n",
        "melted_data = pd.melt(flipkart_df, id_vars=['connected_handling_time', 'CSAT Score'],\n",
        "                      value_vars=category_columns,\n",
        "                      var_name='Issue Category', value_name='Category Value')\n",
        "# Filter out rows where Category Value is 0 (not belonging to that category)\n",
        "bubble_data = melted_data[melted_data['Category Value'] == 1]\n",
        "\n",
        "# 2. Create the bubble chart using Plotly Express\n",
        "fig = px.scatter(bubble_data,\n",
        "                 x='Issue Category',\n",
        "                 y='connected_handling_time',\n",
        "                 size='CSAT Score',\n",
        "                 color='CSAT Score',\n",
        "                 color_continuous_scale='viridis',  # Use a color scale\n",
        "                 hover_name='Issue Category',  # Show category name on hover\n",
        "                 title='Bubble Chart: Issue Category, Response Time & CSAT Score',\n",
        "                 labels={'connected_handling_time': 'Response Time', 'CSAT Score': 'CSAT Score'})\n",
        "\n",
        "# Customize layout for better readability\n",
        "fig.update_layout(xaxis_tickangle=-45,  # Rotate x-axis labels\n",
        "                  xaxis_title='Issue Category',\n",
        "                  yaxis_title='Response Time',\n",
        "                  legend_title='CSAT Score')\n",
        "\n",
        "fig.show()"
      ],
      "metadata": {
        "id": "paMSkyZIdtaI"
      },
      "execution_count": null,
      "outputs": []
    },
    {
      "cell_type": "markdown",
      "source": [
        "##### 1. Why did you pick the specific chart?"
      ],
      "metadata": {
        "id": "E6MkPsBcp1cl"
      }
    },
    {
      "cell_type": "markdown",
      "source": [
        "I chose the Bubble Chart because it visually connects three key aspects—Issue Category, Response Time, and CSAT Score—in one dynamic view. 🎯\n",
        "\n",
        "Bubble Size: Highlights issue volume.\n",
        "\n",
        "*   Bubble Size: Highlights issue volume.\n",
        "\n",
        "*   Bubble Color: Represents CSAT scores (satisfaction levels).\n",
        "\n",
        "*   Y-Axis (Response Time): Shows how long it takes to resolve issues.\n",
        "\n"
      ],
      "metadata": {
        "id": "V22bRsFWp1cl"
      }
    },
    {
      "cell_type": "markdown",
      "source": [
        "##### 2. What is/are the insight(s) found from the chart?"
      ],
      "metadata": {
        "id": "2cELzS2fp1cl"
      }
    },
    {
      "cell_type": "markdown",
      "source": [
        "\n",
        "\n",
        "1.   Cancellation & Returns have the highest response time ⏳ - These categories show longer handling times, possibly due to verification or refund processing.\n",
        "\n",
        "2.   CSAT scores are mostly high (yellow bubbles) 🌟 - Despite varying response times, customer satisfaction remains mostly positive.\n",
        "\n",
        "3.   Low CSAT scores in some refund-related cases (dark purple bubbles) 🛑 - Issues in refunds and payments may be frustrating customers, leading to lower satisfaction.\n",
        "\n",
        "4.   Order-related and payment issues have moderate response times 📦💰 - These issues are addressed relatively quickly but still show a mix of CSAT scores.\n",
        "\n",
        "\n",
        "\n",
        "\n"
      ],
      "metadata": {
        "id": "ozQPc2_Ip1cl"
      }
    },
    {
      "cell_type": "markdown",
      "source": [
        "##### 3. Will the gained insights help creating a positive business impact?\n",
        "Are there any insights that lead to negative growth? Justify with specific reason."
      ],
      "metadata": {
        "id": "3MPXvC8up1cl"
      }
    },
    {
      "cell_type": "markdown",
      "source": [
        "Yes, these insights can drive positive business impact! 🚀\n",
        "\n",
        "By pinpointing high-response-time issues (like Cancellations & Returns) and low CSAT areas, businesses can streamline processes, enhance customer experience, and boost retention. Faster resolutions = Happier customers = Higher loyalty!\n",
        "\n",
        "Beware of Red Flags! ⚠️\n",
        "\n",
        "If high-response-time categories remain unaddressed, they can frustrate customers, leading to negative word-of-mouth & churn. For example, if Refund-Related issues take too long, trust declines, impacting repeat business."
      ],
      "metadata": {
        "id": "GL8l1tdLp1cl"
      }
    },
    {
      "cell_type": "markdown",
      "source": [
        "#### Chart - 14 - Correlation Heatmap"
      ],
      "metadata": {
        "id": "NC_X3p0fY2L0"
      }
    },
    {
      "source": [
        "# Correlation Heatmap visualization code\n",
        "\n",
        "# Assuming your DataFrame is named 'flipkart_df'\n",
        "# Select only numeric columns for correlation calculation\n",
        "numeric_df = flipkart_df.select_dtypes(include=np.number)\n",
        "correlation_matrix = numeric_df.corr()\n",
        "\n",
        "plt.figure(figsize=(12, 10))  # Adjust figure size as needed\n",
        "sns.heatmap(correlation_matrix, annot=True, cmap='coolwarm', fmt=\".2f\")\n",
        "plt.title('Correlation Heatmap')\n",
        "plt.show()"
      ],
      "cell_type": "code",
      "metadata": {
        "id": "t8GyBETNXpOs"
      },
      "execution_count": null,
      "outputs": []
    },
    {
      "cell_type": "markdown",
      "source": [
        "##### 1. Why did you pick the specific chart?"
      ],
      "metadata": {
        "id": "UV0SzAkaZNRQ"
      }
    },
    {
      "cell_type": "markdown",
      "source": [
        "I picked the correlation heatmap because it’s like an X-ray for data relationships! 🔍🔥 It instantly reveals which variables in Flipkart’s customer support data are connected, weakly related, or completely independent."
      ],
      "metadata": {
        "id": "DVPuT8LYZNRQ"
      }
    },
    {
      "cell_type": "markdown",
      "source": [
        "##### 2. What is/are the insight(s) found from the chart?"
      ],
      "metadata": {
        "id": "YPEH6qLeZNRQ"
      }
    },
    {
      "cell_type": "markdown",
      "source": [
        "From the correlation heatmap, we can derive the following insights:\n",
        "\n",
        "1.  Weak correlation between item price and CSAT score (-0.06) 🛍️\n",
        "Higher-priced items don’t significantly impact customer satisfaction scores.\n",
        "\n",
        "2.  Handling time has a slight positive correlation (0.22) with item price ⏳ -\n",
        "More expensive items might take longer to handle in customer support.\n",
        "\n",
        "3.  Almost no correlation between CSAT score and handling time (0.05) 📞 -\n",
        "Faster resolution doesn’t guarantee higher satisfaction—other factors might be at play.\n",
        "Negligible impact of reported issue timing on satisfaction ⏰\n",
        "\n"
      ],
      "metadata": {
        "id": "bfSqtnDqZNRR"
      }
    },
    {
      "cell_type": "markdown",
      "source": [
        "#### Chart - 15 - Pair Plot"
      ],
      "metadata": {
        "id": "q29F0dvdveiT"
      }
    },
    {
      "source": [
        "import seaborn as sns\n",
        "import matplotlib.pyplot as plt\n",
        "\n",
        "# Assuming your DataFrame is named 'flipkart_df'\n",
        "# Select the columns you want to include in the pair plot\n",
        "columns_for_pairplot = ['Item_price', 'connected_handling_time', 'CSAT Score']  # Replace with your desired columns\n",
        "\n",
        "# Create the pair plot\n",
        "sns.pairplot(flipkart_df[columns_for_pairplot])\n",
        "plt.show()"
      ],
      "cell_type": "code",
      "metadata": {
        "id": "_9QTmICOYJgo"
      },
      "execution_count": null,
      "outputs": []
    },
    {
      "cell_type": "markdown",
      "source": [
        "##### 1. Why did you pick the specific chart?"
      ],
      "metadata": {
        "id": "EXh0U9oCveiU"
      }
    },
    {
      "cell_type": "markdown",
      "source": [
        "I chose the pairplot because it’s like a speed date for data! 🚀 It quickly reveals relationships, patterns, and outliers across multiple variables in one go. Whether it's spotting price outliers, handling time clusters, or CSAT score trends, this chart gives a 360-degree view of how Flipkart's customer support data interacts. 📊✨"
      ],
      "metadata": {
        "id": "eMmPjTByveiU"
      }
    },
    {
      "cell_type": "markdown",
      "source": [
        "##### 2. What is/are the insight(s) found from the chart?"
      ],
      "metadata": {
        "id": "22aHeOlLveiV"
      }
    },
    {
      "cell_type": "markdown",
      "source": [
        "\n",
        "\n",
        "1.   Right-Skewed Distribution for Item_price - Most of the items are low-priced, with a few high-priced outliers beyond ₹100,000.\n",
        "This suggests Flipkart primarily deals in affordable products, but some premium items exist.\n",
        "\n",
        "2.   CSAT Score is Discrete (Likely on a Scale of 1-5) - Customer Satisfaction (CSAT Score) appears to be distributed across a fixed scale (1 to 5), which indicates a rating system.\n",
        "No clear linear relationship is visible between CSAT Score and Item_price or connected_handling_time.\n",
        "\n",
        "3.   No Clear Correlation Between Handling Time and CSAT Score - Points are scattered, meaning that longer or shorter handling times don’t directly determine CSAT scores.\n",
        "Some cases with high handling times still have good ratings, suggesting other factors (like agent efficiency or resolution quality) might impact satisfaction more.\n",
        "\n",
        "4.   Possible Clusters in Handling Time vs. CSAT Score - Some clustering in handling times suggests standardized time ranges for different customer issues.\n",
        "Cases where connected_handling_time is extremely high (above 1000s) might be escalation cases or difficult issues.\n",
        "\n",
        "\n"
      ],
      "metadata": {
        "id": "uPQ8RGwHveiV"
      }
    },
    {
      "cell_type": "markdown",
      "source": [
        "## **5. Solution to Business Objective**"
      ],
      "metadata": {
        "id": "JcMwzZxoAimU"
      }
    },
    {
      "cell_type": "markdown",
      "source": [
        "#### What do you suggest the client to achieve Business Objective ?\n",
        "Explain Briefly."
      ],
      "metadata": {
        "id": "8G2x9gOozGDZ"
      }
    },
    {
      "cell_type": "markdown",
      "source": [
        "The goal of this Exploratory Data Analysis (EDA) is to uncover key insights that enhance customer experience, optimize support operations, and boost brand loyalty. By analyzing customer complaints, response times, resolution efficiency, and agent performance, we aim to:\n",
        "\n",
        "1️⃣ Improve Response & Resolution Times – Identify bottlenecks and optimize agent workload.\n",
        "\n",
        "2️⃣ Enhance Customer Satisfaction – Detect common complaint patterns and improve service quality.\n",
        "\n",
        "3️⃣ Optimize Staffing & Scheduling – Allocate resources efficiently based on peak complaint hours.\n",
        "\n",
        "4️⃣ Reduce Escalations & Churn – Identify dissatisfied customers early and take proactive measures.\n",
        "\n",
        "5️⃣ Data-Driven Decision Making – Empower Flipkart to enhance CSAT (Customer Satisfaction Score) and retain loyal customers."
      ],
      "metadata": {
        "id": "pASKb0qOza21"
      }
    },
    {
      "cell_type": "markdown",
      "source": [
        "# **Conclusion**"
      ],
      "metadata": {
        "id": "gCX9965dhzqZ"
      }
    },
    {
      "cell_type": "markdown",
      "source": [
        "📌 Conclusion: Flipkart Customer Support EDA 🚀\n",
        "\n",
        "The deep dive into Flipkart's customer support data has unboxed critical insights that can transform customer service into a competitive advantage. Here's what we discovered:\n",
        "\n",
        "✅ Faster Response = Happier Customers 🎯\n",
        "\n",
        "*   Delays in response & resolution times negatively impact CSAT.\n",
        "\n",
        "*   Optimizing agent shifts, especially night shifts, can improve efficiency.\n",
        "\n",
        "✅ Peak Complaint Trends = Smarter Staffing 📅\n",
        "\n",
        "\n",
        "*   Fridays & Mondays see the highest complaints—align resources accordingly.\n",
        "\n",
        "*   12 PM complaint spike demands better lunch-hour support planning.\n",
        "\n",
        "\n",
        "✅ Premium Customers = Priority Support 👑\n",
        "\n",
        "\n",
        "*   High-ticket purchases (₹20K+) have higher complaint rates; dedicated VIP support can boost retention.\n",
        "\n",
        "\n",
        "⚠ Red Flags & Fixes:\n",
        "\n",
        "\n",
        "*   Long response times (>24 hrs) hurt brand loyalty—need faster resolutions! ⏳\n",
        "\n",
        "*   Some agents consistently underperform—train them using top performers' strategies! 🏆\n",
        "\n",
        "\n",
        "\n",
        "\n",
        "\n",
        "\n",
        "\n",
        "\n",
        "\n",
        "\n",
        "\n"
      ],
      "metadata": {
        "id": "Fjb1IsQkh3yE"
      }
    },
    {
      "cell_type": "markdown",
      "source": [
        "### ***Hurrah! You have successfully completed your EDA Capstone Project !!!***"
      ],
      "metadata": {
        "id": "gIfDvo9L0UH2"
      }
    }
  ]
}